{
 "cells": [
  {
   "cell_type": "code",
   "execution_count": 62,
   "metadata": {
    "scrolled": true
   },
   "outputs": [],
   "source": [
    "from tmdbv3api import TMDb"
   ]
  },
  {
   "cell_type": "code",
   "execution_count": 63,
   "metadata": {},
   "outputs": [],
   "source": [
    "import json\n",
    "import requests\n",
    "tmdb = TMDb()\n",
    "tmdb.api_key = 'Your API Key'"
   ]
  },
  {
   "cell_type": "code",
   "execution_count": 64,
   "metadata": {},
   "outputs": [],
   "source": [
    "from tmdbv3api import Movie\n",
    "tmdb_movie = Movie()\n",
    "result = tmdb_movie.search(\"The Grudge\")"
   ]
  },
  {
   "cell_type": "code",
   "execution_count": 65,
   "metadata": {},
   "outputs": [
    {
     "data": {
      "text/plain": [
       "{'adult': False,\n",
       " 'backdrop_path': '/e8nfiNRrcUfebNLPKtR6dzgV1M1.jpg',\n",
       " 'belongs_to_collection': {'id': 1974,\n",
       "  'name': 'The Grudge Collection',\n",
       "  'poster_path': '/dohOSIYDEK42stdfKo0pQfrve0h.jpg',\n",
       "  'backdrop_path': '/u0fckWIveOOUM9BX0I5puGSR2Wi.jpg'},\n",
       " 'budget': 10000000,\n",
       " 'genres': [{'id': 27, 'name': 'Horror'},\n",
       "  {'id': 9648, 'name': 'Mystery'},\n",
       "  {'id': 53, 'name': 'Thriller'}],\n",
       " 'homepage': '',\n",
       " 'id': 1970,\n",
       " 'imdb_id': 'tt0391198',\n",
       " 'original_language': 'en',\n",
       " 'original_title': 'The Grudge',\n",
       " 'overview': 'An American nurse living and working in Tokyo is exposed to a mysterious supernatural curse, one that locks a person in a powerful rage before claiming their life and spreading to another victim.',\n",
       " 'popularity': 58.527,\n",
       " 'poster_path': '/epllysIxLE4KRIXz49xHbwewvuE.jpg',\n",
       " 'production_companies': [{'id': 5,\n",
       "   'logo_path': '/71BqEFAF4V3qjjMPCpLuyJFB9A.png',\n",
       "   'name': 'Columbia Pictures',\n",
       "   'origin_country': 'US'},\n",
       "  {'id': 768,\n",
       "   'logo_path': None,\n",
       "   'name': 'Ghost House Pictures',\n",
       "   'origin_country': 'US'},\n",
       "  {'id': 829,\n",
       "   'logo_path': '/mzpAmEQ5P1gFvdRoNyCk9q8ngiv.png',\n",
       "   'name': 'Vertigo Entertainment',\n",
       "   'origin_country': 'US'},\n",
       "  {'id': 830,\n",
       "   'logo_path': None,\n",
       "   'name': 'Senator International',\n",
       "   'origin_country': ''},\n",
       "  {'id': 4710,\n",
       "   'logo_path': None,\n",
       "   'name': 'Fellah Pictures',\n",
       "   'origin_country': ''}],\n",
       " 'production_countries': [{'iso_3166_1': 'JP', 'name': 'Japan'},\n",
       "  {'iso_3166_1': 'US', 'name': 'United States of America'}],\n",
       " 'release_date': '2004-10-22',\n",
       " 'revenue': 183474602,\n",
       " 'runtime': 92,\n",
       " 'spoken_languages': [{'english_name': 'English',\n",
       "   'iso_639_1': 'en',\n",
       "   'name': 'English'},\n",
       "  {'english_name': 'Japanese', 'iso_639_1': 'ja', 'name': '日本語'}],\n",
       " 'status': 'Released',\n",
       " 'tagline': 'It never forgives. It never forgets.',\n",
       " 'title': 'The Grudge',\n",
       " 'video': False,\n",
       " 'vote_average': 5.9,\n",
       " 'vote_count': 2421}"
      ]
     },
     "execution_count": 65,
     "metadata": {},
     "output_type": "execute_result"
    }
   ],
   "source": [
    "movie_id = result[0].id\n",
    "response = requests.get('https://api.themoviedb.org/3/movie/{}?api_key={}'.format(movie_id,tmdb.api_key))\n",
    "data_json = response.json()\n",
    "data_json"
   ]
  },
  {
   "cell_type": "code",
   "execution_count": 66,
   "metadata": {},
   "outputs": [
    {
     "data": {
      "text/plain": [
       "{'id': 27, 'name': 'Horror'}"
      ]
     },
     "execution_count": 66,
     "metadata": {},
     "output_type": "execute_result"
    }
   ],
   "source": [
    "data_json['genres'][0]"
   ]
  },
  {
   "cell_type": "code",
   "execution_count": 67,
   "metadata": {},
   "outputs": [
    {
     "data": {
      "text/plain": [
       "'Horror'"
      ]
     },
     "execution_count": 67,
     "metadata": {},
     "output_type": "execute_result"
    }
   ],
   "source": [
    "data_json['genres'][0]['name']"
   ]
  },
  {
   "cell_type": "code",
   "execution_count": 68,
   "metadata": {},
   "outputs": [],
   "source": [
    "URL=\"https://en.wikipedia.org/wiki/List_of_American_films_of_2021\""
   ]
  },
  {
   "cell_type": "code",
   "execution_count": 69,
   "metadata": {},
   "outputs": [],
   "source": [
    "import bs4 as bs\n",
    "import requests\n"
   ]
  },
  {
   "cell_type": "code",
   "execution_count": 70,
   "metadata": {},
   "outputs": [],
   "source": [
    "url_link = requests.get(URL)"
   ]
  },
  {
   "cell_type": "code",
   "execution_count": 71,
   "metadata": {},
   "outputs": [],
   "source": [
    "import urllib.request"
   ]
  },
  {
   "cell_type": "code",
   "execution_count": 72,
   "metadata": {},
   "outputs": [],
   "source": [
    "import lxml"
   ]
  },
  {
   "cell_type": "code",
   "execution_count": 73,
   "metadata": {},
   "outputs": [],
   "source": [
    "source=urllib.request.urlopen(URL).read()"
   ]
  },
  {
   "cell_type": "code",
   "execution_count": 74,
   "metadata": {},
   "outputs": [],
   "source": [
    "file = bs.BeautifulSoup(url_link.text,'html.parser')\n"
   ]
  },
  {
   "cell_type": "code",
   "execution_count": 75,
   "metadata": {},
   "outputs": [
    {
     "name": "stdout",
     "output_type": "stream",
     "text": [
      "['sidebar', 'nomobile', 'nowraplinks', 'collapsible', 'collapsed']\n",
      "['wikidiv']\n",
      "['wikitable']\n",
      "['wikitable', 'sortable']\n",
      "['wikitable', 'sortable']\n",
      "['wikitable', 'sortable']\n",
      "['wikitable', 'sortable']\n",
      "['nowraplinks', 'mw-collapsible', 'autocollapse', 'navbox-inner']\n",
      "['nowraplinks', 'mw-collapsible', 'open', 'navbox-inner']\n",
      "['nowraplinks', 'mw-collapsible', 'autocollapse', 'navbox-inner']\n",
      "['nowraplinks', 'navbox-subgroup']\n",
      "['nowraplinks', 'navbox-subgroup']\n",
      "['nowraplinks', 'navbox-subgroup']\n",
      "['nowraplinks', 'navbox-subgroup']\n"
     ]
    }
   ],
   "source": [
    "for table in file.find_all('table'):\n",
    "    print(table.get('class'))"
   ]
  },
  {
   "cell_type": "code",
   "execution_count": 76,
   "metadata": {},
   "outputs": [],
   "source": [
    "tables = file.find_all('table', class_='wikitable sortable')"
   ]
  },
  {
   "cell_type": "code",
   "execution_count": 77,
   "metadata": {},
   "outputs": [],
   "source": [
    "##import bs4.builder.htmlparser\n",
    "###import bs4.builder._lxml\n",
    "###import bs4.builder._html5lib"
   ]
  },
  {
   "cell_type": "code",
   "execution_count": 78,
   "metadata": {},
   "outputs": [
    {
     "data": {
      "text/plain": [
       "4"
      ]
     },
     "execution_count": 78,
     "metadata": {},
     "output_type": "execute_result"
    }
   ],
   "source": [
    "len(tables)"
   ]
  },
  {
   "cell_type": "code",
   "execution_count": 79,
   "metadata": {},
   "outputs": [],
   "source": [
    "import pandas as pd\n",
    "import numpy as np"
   ]
  },
  {
   "cell_type": "code",
   "execution_count": 80,
   "metadata": {},
   "outputs": [],
   "source": [
    "df1 = pd.read_html(str(tables[0]))[0]\n",
    "df2 = pd.read_html(str(tables[1]))[0]\n",
    "df3 = pd.read_html(str(tables[2]))[0]\n",
    "df4 = pd.read_html(str(tables[3]).replace(\"'1\\\"\\'\",'\"1\"'))[0] # avoided \"ValueError: invalid literal for int() with base 10: '1\"'"
   ]
  },
  {
   "cell_type": "code",
   "execution_count": 81,
   "metadata": {
    "scrolled": false
   },
   "outputs": [],
   "source": [
    "df = df1.append(df2.append(df3.append(df4,ignore_index=True),ignore_index=True),ignore_index=True)"
   ]
  },
  {
   "cell_type": "code",
   "execution_count": 82,
   "metadata": {},
   "outputs": [
    {
     "data": {
      "text/plain": [
       "(66, 6)"
      ]
     },
     "execution_count": 82,
     "metadata": {},
     "output_type": "execute_result"
    }
   ],
   "source": [
    "df1.shape"
   ]
  },
  {
   "cell_type": "code",
   "execution_count": 83,
   "metadata": {},
   "outputs": [],
   "source": [
    "df_2021 = df[['Title','Cast and crew']]"
   ]
  },
  {
   "cell_type": "code",
   "execution_count": 84,
   "metadata": {},
   "outputs": [
    {
     "data": {
      "text/html": [
       "<div>\n",
       "<style scoped>\n",
       "    .dataframe tbody tr th:only-of-type {\n",
       "        vertical-align: middle;\n",
       "    }\n",
       "\n",
       "    .dataframe tbody tr th {\n",
       "        vertical-align: top;\n",
       "    }\n",
       "\n",
       "    .dataframe thead th {\n",
       "        text-align: right;\n",
       "    }\n",
       "</style>\n",
       "<table border=\"1\" class=\"dataframe\">\n",
       "  <thead>\n",
       "    <tr style=\"text-align: right;\">\n",
       "      <th></th>\n",
       "      <th>Title</th>\n",
       "      <th>Cast and crew</th>\n",
       "    </tr>\n",
       "  </thead>\n",
       "  <tbody>\n",
       "    <tr>\n",
       "      <th>0</th>\n",
       "      <td>Shadow in the Cloud</td>\n",
       "      <td>Roseanne Liang (director/screenplay); Max Land...</td>\n",
       "    </tr>\n",
       "    <tr>\n",
       "      <th>1</th>\n",
       "      <td>The White Tiger</td>\n",
       "      <td>Ramin Bahrani (director/screenplay); Adarsh Go...</td>\n",
       "    </tr>\n",
       "    <tr>\n",
       "      <th>2</th>\n",
       "      <td>Locked Down</td>\n",
       "      <td>Doug Liman (director); Steven Knight (screenpl...</td>\n",
       "    </tr>\n",
       "    <tr>\n",
       "      <th>3</th>\n",
       "      <td>The Dig</td>\n",
       "      <td>Simon Stone (director); Moira Buffini (screenp...</td>\n",
       "    </tr>\n",
       "    <tr>\n",
       "      <th>4</th>\n",
       "      <td>Outside the Wire</td>\n",
       "      <td>Mikael Håfström (director); Rob Yescombe, Rowa...</td>\n",
       "    </tr>\n",
       "  </tbody>\n",
       "</table>\n",
       "</div>"
      ],
      "text/plain": [
       "                 Title                                      Cast and crew\n",
       "0  Shadow in the Cloud  Roseanne Liang (director/screenplay); Max Land...\n",
       "1      The White Tiger  Ramin Bahrani (director/screenplay); Adarsh Go...\n",
       "2          Locked Down  Doug Liman (director); Steven Knight (screenpl...\n",
       "3              The Dig  Simon Stone (director); Moira Buffini (screenp...\n",
       "4     Outside the Wire  Mikael Håfström (director); Rob Yescombe, Rowa..."
      ]
     },
     "execution_count": 84,
     "metadata": {},
     "output_type": "execute_result"
    }
   ],
   "source": [
    "df_2021.head()"
   ]
  },
  {
   "cell_type": "code",
   "execution_count": 85,
   "metadata": {},
   "outputs": [],
   "source": [
    "def get_genre(x):\n",
    "    result = tmdb_movie.search(x)\n",
    "    if not result:\n",
    "        return np.NaN\n",
    "    else:\n",
    "        movie_id = result[0].id\n",
    "        response = requests.get('https://api.themoviedb.org/3/movie/{}?api_key={}'.format(movie_id,tmdb.api_key))\n",
    "        data_json = response.json()\n",
    "        genre = []\n",
    "        for i in range(len(data_json['genres'])):\n",
    "            genre.append(data_json['genres'][i]['name'])\n",
    "        gen = ' '.join(genre)\n",
    "        return gen\n",
    "    \n",
    "    "
   ]
  },
  {
   "cell_type": "code",
   "execution_count": 86,
   "metadata": {},
   "outputs": [
    {
     "name": "stderr",
     "output_type": "stream",
     "text": [
      "C:\\Users\\nitisha.reddy\\.conda\\envs\\py3-TF2.0\\lib\\site-packages\\ipykernel_launcher.py:1: SettingWithCopyWarning: \n",
      "A value is trying to be set on a copy of a slice from a DataFrame.\n",
      "Try using .loc[row_indexer,col_indexer] = value instead\n",
      "\n",
      "See the caveats in the documentation: https://pandas.pydata.org/pandas-docs/stable/user_guide/indexing.html#returning-a-view-versus-a-copy\n",
      "  \"\"\"Entry point for launching an IPython kernel.\n"
     ]
    }
   ],
   "source": [
    "df_2021['genres'] = df_2021['Title'].map(lambda x : get_genre(str(x)))"
   ]
  },
  {
   "cell_type": "code",
   "execution_count": 87,
   "metadata": {},
   "outputs": [
    {
     "data": {
      "text/plain": [
       "(358,)"
      ]
     },
     "execution_count": 87,
     "metadata": {},
     "output_type": "execute_result"
    }
   ],
   "source": [
    "df_2021['genres'].shape"
   ]
  },
  {
   "cell_type": "code",
   "execution_count": 88,
   "metadata": {},
   "outputs": [
    {
     "data": {
      "text/plain": [
       "3"
      ]
     },
     "execution_count": 88,
     "metadata": {},
     "output_type": "execute_result"
    }
   ],
   "source": [
    "len(data_json['genres'])"
   ]
  },
  {
   "cell_type": "code",
   "execution_count": 89,
   "metadata": {},
   "outputs": [
    {
     "data": {
      "text/plain": [
       "0                    Horror Action War\n",
       "1                                Drama\n",
       "2                   Comedy Crime Drama\n",
       "3                        Drama History\n",
       "4      Thriller Action Science Fiction\n",
       "                    ...               \n",
       "353                          Drama War\n",
       "354                      Drama Romance\n",
       "355                              Drama\n",
       "356              Drama Fantasy Mystery\n",
       "357                             Comedy\n",
       "Name: genres, Length: 358, dtype: object"
      ]
     },
     "execution_count": 89,
     "metadata": {},
     "output_type": "execute_result"
    }
   ],
   "source": [
    "df_2021['genres']"
   ]
  },
  {
   "cell_type": "code",
   "execution_count": 90,
   "metadata": {},
   "outputs": [
    {
     "data": {
      "text/plain": [
       "str"
      ]
     },
     "execution_count": 90,
     "metadata": {},
     "output_type": "execute_result"
    }
   ],
   "source": [
    "type(df_2021.loc[0,'Cast and crew'])"
   ]
  },
  {
   "cell_type": "code",
   "execution_count": 91,
   "metadata": {},
   "outputs": [],
   "source": [
    "def get_director(x):\n",
    "    return x.split(' (')[0]"
   ]
  },
  {
   "cell_type": "code",
   "execution_count": 92,
   "metadata": {},
   "outputs": [
    {
     "name": "stderr",
     "output_type": "stream",
     "text": [
      "C:\\Users\\nitisha.reddy\\.conda\\envs\\py3-TF2.0\\lib\\site-packages\\ipykernel_launcher.py:1: SettingWithCopyWarning: \n",
      "A value is trying to be set on a copy of a slice from a DataFrame.\n",
      "Try using .loc[row_indexer,col_indexer] = value instead\n",
      "\n",
      "See the caveats in the documentation: https://pandas.pydata.org/pandas-docs/stable/user_guide/indexing.html#returning-a-view-versus-a-copy\n",
      "  \"\"\"Entry point for launching an IPython kernel.\n"
     ]
    }
   ],
   "source": [
    "df_2021['director'] = df_2021['Cast and crew'].map(lambda x: get_director(str(x)))"
   ]
  },
  {
   "cell_type": "code",
   "execution_count": 93,
   "metadata": {},
   "outputs": [
    {
     "data": {
      "text/plain": [
       "0                 Roseanne Liang\n",
       "1                  Ramin Bahrani\n",
       "2                     Doug Liman\n",
       "3                    Simon Stone\n",
       "4                Mikael Håfström\n",
       "                 ...            \n",
       "353                    Joel Coen\n",
       "354            Denzel Washington\n",
       "355               Erwin brothers\n",
       "356    Apichatpong Weerasethakul\n",
       "357                          nan\n",
       "Name: director, Length: 358, dtype: object"
      ]
     },
     "execution_count": 93,
     "metadata": {},
     "output_type": "execute_result"
    }
   ],
   "source": [
    "df_2021['director']"
   ]
  },
  {
   "cell_type": "code",
   "execution_count": 94,
   "metadata": {},
   "outputs": [],
   "source": [
    "def get_actor1(x):\n",
    "    if \"screenplay\" not in x:\n",
    "        if len(x.split(\";\")[-1].split(\", \"))<1:\n",
    "            return np.nan\n",
    "        else:\n",
    "            return x.split(\";\")[-1].split(\", \")[0]\n",
    "    else:    \n",
    "        if len(x.split(\"screenplay); \")[-1].split(\", \"))<1:\n",
    "            return np.nan\n",
    "        else:\n",
    "            return x.split(\"screenplay); \")[-1].split(\", \")[0]\n",
    "    \n",
    "        \n",
    "    "
   ]
  },
  {
   "cell_type": "code",
   "execution_count": 95,
   "metadata": {},
   "outputs": [
    {
     "name": "stderr",
     "output_type": "stream",
     "text": [
      "C:\\Users\\nitisha.reddy\\.conda\\envs\\py3-TF2.0\\lib\\site-packages\\ipykernel_launcher.py:1: SettingWithCopyWarning: \n",
      "A value is trying to be set on a copy of a slice from a DataFrame.\n",
      "Try using .loc[row_indexer,col_indexer] = value instead\n",
      "\n",
      "See the caveats in the documentation: https://pandas.pydata.org/pandas-docs/stable/user_guide/indexing.html#returning-a-view-versus-a-copy\n",
      "  \"\"\"Entry point for launching an IPython kernel.\n"
     ]
    }
   ],
   "source": [
    "df_2021['actor_1'] = df_2021['Cast and crew'].map(lambda x: get_actor1(str(x)))"
   ]
  },
  {
   "cell_type": "code",
   "execution_count": 96,
   "metadata": {},
   "outputs": [
    {
     "data": {
      "text/plain": [
       "0      Chloë Grace Moretz\n",
       "1           Adarsh Gourav\n",
       "2           Anne Hathaway\n",
       "3          Carey Mulligan\n",
       "4          Anthony Mackie\n",
       "              ...        \n",
       "353     Denzel Washington\n",
       "354     Michael B. Jordan\n",
       "355          Zachary Levi\n",
       "356         Tilda Swinton\n",
       "357                   nan\n",
       "Name: actor_1, Length: 358, dtype: object"
      ]
     },
     "execution_count": 96,
     "metadata": {},
     "output_type": "execute_result"
    }
   ],
   "source": [
    "df_2021['actor_1']"
   ]
  },
  {
   "cell_type": "code",
   "execution_count": 97,
   "metadata": {},
   "outputs": [
    {
     "data": {
      "text/plain": [
       "'Chloë Grace Moretz'"
      ]
     },
     "execution_count": 97,
     "metadata": {},
     "output_type": "execute_result"
    }
   ],
   "source": [
    "df_2021.loc[0,'Cast and crew'].split(\"screenplay); \")[-1].split(\", \")[0]"
   ]
  },
  {
   "cell_type": "code",
   "execution_count": 98,
   "metadata": {},
   "outputs": [],
   "source": [
    "df_2021.to_csv('2021_movie.csv')"
   ]
  },
  {
   "cell_type": "code",
   "execution_count": 99,
   "metadata": {},
   "outputs": [],
   "source": [
    "def get_actor2(x):\n",
    "    if \"screenplay\" not in x:\n",
    "        if len(x.split(\";\")[-1].split(\", \"))<2:\n",
    "            return np.nan\n",
    "        else:\n",
    "            return x.split(\";\")[-1].split(\", \")[1]\n",
    "    else:    \n",
    "        if len(x.split(\"screenplay); \")[-1].split(\", \"))<2:\n",
    "            return np.nan\n",
    "        else:\n",
    "            return x.split(\"screenplay); \")[-1].split(\", \")[1]"
   ]
  },
  {
   "cell_type": "code",
   "execution_count": 100,
   "metadata": {},
   "outputs": [
    {
     "name": "stderr",
     "output_type": "stream",
     "text": [
      "C:\\Users\\nitisha.reddy\\.conda\\envs\\py3-TF2.0\\lib\\site-packages\\ipykernel_launcher.py:1: SettingWithCopyWarning: \n",
      "A value is trying to be set on a copy of a slice from a DataFrame.\n",
      "Try using .loc[row_indexer,col_indexer] = value instead\n",
      "\n",
      "See the caveats in the documentation: https://pandas.pydata.org/pandas-docs/stable/user_guide/indexing.html#returning-a-view-versus-a-copy\n",
      "  \"\"\"Entry point for launching an IPython kernel.\n"
     ]
    }
   ],
   "source": [
    "df_2021['actor_2'] = df_2021['Cast and crew'].map(lambda x: get_actor2(str(x)))"
   ]
  },
  {
   "cell_type": "code",
   "execution_count": 101,
   "metadata": {},
   "outputs": [
    {
     "data": {
      "text/plain": [
       "0      Taylor John Smith\n",
       "1          Rajkummar Rao\n",
       "2       Chiwetel Ejiofor\n",
       "3          Ralph Fiennes\n",
       "4           Damson Idris\n",
       "             ...        \n",
       "353    Frances McDormand\n",
       "354         Chanté Adams\n",
       "355          Anna Paquin\n",
       "356           Elkin Díaz\n",
       "357                  NaN\n",
       "Name: actor_2, Length: 358, dtype: object"
      ]
     },
     "execution_count": 101,
     "metadata": {},
     "output_type": "execute_result"
    }
   ],
   "source": [
    "df_2021['actor_2']"
   ]
  },
  {
   "cell_type": "code",
   "execution_count": 115,
   "metadata": {},
   "outputs": [],
   "source": [
    "def get_actor3(x):\n",
    "    if \"screenplay\" not in x:\n",
    "        if len(x.split(\";\")[-1].split(\", \"))<3:\n",
    "            return np.nan\n",
    "        else:\n",
    "            return x.split(\";\")[-1].split(\", \")[2]\n",
    "    else:    \n",
    "        if len(x.split(\"screenplay); \")[-1].split(\", \"))<3:\n",
    "            return np.nan\n",
    "        else:\n",
    "            return x.split(\"screenplay); \")[-1].split(\", \")[2]"
   ]
  },
  {
   "cell_type": "code",
   "execution_count": 116,
   "metadata": {},
   "outputs": [],
   "source": [
    "df_2021['actor_3'] = df_2021['Cast and crew'].map(lambda x: get_actor3(str(x)))"
   ]
  },
  {
   "cell_type": "code",
   "execution_count": 117,
   "metadata": {},
   "outputs": [
    {
     "data": {
      "text/plain": [
       "0               Beulah Koale\n",
       "1      Priyanka Chopra Jonas\n",
       "2           Stephen Merchant\n",
       "3                 Lily James\n",
       "4              Emily Beecham\n",
       "               ...          \n",
       "353            Bertie Carvel\n",
       "354          Jalon Christian\n",
       "355             Dennis Quaid\n",
       "356           Jeanne Balibar\n",
       "357                      NaN\n",
       "Name: actor_3, Length: 358, dtype: object"
      ]
     },
     "execution_count": 117,
     "metadata": {},
     "output_type": "execute_result"
    }
   ],
   "source": [
    "df_2021['actor_3']"
   ]
  },
  {
   "cell_type": "code",
   "execution_count": 118,
   "metadata": {},
   "outputs": [],
   "source": [
    "df_2021.to_csv('2021_final.csv')"
   ]
  },
  {
   "cell_type": "code",
   "execution_count": 128,
   "metadata": {},
   "outputs": [],
   "source": [
    "d1 = pd.read_csv('2020_final.csv')\n",
    "d2 = pd.read_csv('2019_final.csv')\n",
    "d3 = pd.read_csv('2018_final.csv')\n",
    "d4 = pd.read_csv('2021_final.csv')"
   ]
  },
  {
   "cell_type": "code",
   "execution_count": 129,
   "metadata": {},
   "outputs": [],
   "source": [
    "df_new = d1.append(d2.append(d3.append(d4,ignore_index=True),ignore_index=True),ignore_index=True)"
   ]
  },
  {
   "cell_type": "code",
   "execution_count": 130,
   "metadata": {},
   "outputs": [
    {
     "data": {
      "text/html": [
       "<div>\n",
       "<style scoped>\n",
       "    .dataframe tbody tr th:only-of-type {\n",
       "        vertical-align: middle;\n",
       "    }\n",
       "\n",
       "    .dataframe tbody tr th {\n",
       "        vertical-align: top;\n",
       "    }\n",
       "\n",
       "    .dataframe thead th {\n",
       "        text-align: right;\n",
       "    }\n",
       "</style>\n",
       "<table border=\"1\" class=\"dataframe\">\n",
       "  <thead>\n",
       "    <tr style=\"text-align: right;\">\n",
       "      <th></th>\n",
       "      <th>Unnamed: 0</th>\n",
       "      <th>Title</th>\n",
       "      <th>Cast and crew</th>\n",
       "      <th>genres</th>\n",
       "      <th>director</th>\n",
       "      <th>actor_1</th>\n",
       "      <th>actor_2</th>\n",
       "      <th>actor_3</th>\n",
       "    </tr>\n",
       "  </thead>\n",
       "  <tbody>\n",
       "    <tr>\n",
       "      <th>0</th>\n",
       "      <td>0</td>\n",
       "      <td>The Grudge</td>\n",
       "      <td>Nicolas Pesce (director/screenplay); Andrea Ri...</td>\n",
       "      <td>Horror Mystery Thriller</td>\n",
       "      <td>Nicolas Pesce</td>\n",
       "      <td>Andrea Riseborough</td>\n",
       "      <td>Demián Bichir</td>\n",
       "      <td>John Cho</td>\n",
       "    </tr>\n",
       "    <tr>\n",
       "      <th>1</th>\n",
       "      <td>1</td>\n",
       "      <td>Underwater</td>\n",
       "      <td>William Eubank (director); Brian Duffield, Ada...</td>\n",
       "      <td>Action Horror Science Fiction Thriller</td>\n",
       "      <td>William Eubank</td>\n",
       "      <td>Kristen Stewart</td>\n",
       "      <td>Vincent Cassel</td>\n",
       "      <td>Jessica Henwick</td>\n",
       "    </tr>\n",
       "    <tr>\n",
       "      <th>2</th>\n",
       "      <td>2</td>\n",
       "      <td>Like a Boss</td>\n",
       "      <td>Miguel Arteta (director); Sam Pitman, Adam Col...</td>\n",
       "      <td>Comedy</td>\n",
       "      <td>Miguel Arteta</td>\n",
       "      <td>Tiffany Haddish</td>\n",
       "      <td>Rose Byrne</td>\n",
       "      <td>Salma Hayek</td>\n",
       "    </tr>\n",
       "    <tr>\n",
       "      <th>3</th>\n",
       "      <td>3</td>\n",
       "      <td>Three Christs</td>\n",
       "      <td>Jon Avnet (director/screenplay); Eric Nazarian...</td>\n",
       "      <td>Drama</td>\n",
       "      <td>Jon Avnet</td>\n",
       "      <td>Richard Gere</td>\n",
       "      <td>Peter Dinklage</td>\n",
       "      <td>Walton Goggins</td>\n",
       "    </tr>\n",
       "    <tr>\n",
       "      <th>4</th>\n",
       "      <td>4</td>\n",
       "      <td>Inherit the Viper</td>\n",
       "      <td>Anthony Jerjen (director); Andrew Crabtree (sc...</td>\n",
       "      <td>Crime Thriller Drama</td>\n",
       "      <td>Anthony Jerjen</td>\n",
       "      <td>Josh Hartnett</td>\n",
       "      <td>Margarita Levieva</td>\n",
       "      <td>Chandler Riggs</td>\n",
       "    </tr>\n",
       "  </tbody>\n",
       "</table>\n",
       "</div>"
      ],
      "text/plain": [
       "   Unnamed: 0              Title  \\\n",
       "0           0         The Grudge   \n",
       "1           1         Underwater   \n",
       "2           2        Like a Boss   \n",
       "3           3      Three Christs   \n",
       "4           4  Inherit the Viper   \n",
       "\n",
       "                                       Cast and crew  \\\n",
       "0  Nicolas Pesce (director/screenplay); Andrea Ri...   \n",
       "1  William Eubank (director); Brian Duffield, Ada...   \n",
       "2  Miguel Arteta (director); Sam Pitman, Adam Col...   \n",
       "3  Jon Avnet (director/screenplay); Eric Nazarian...   \n",
       "4  Anthony Jerjen (director); Andrew Crabtree (sc...   \n",
       "\n",
       "                                   genres        director             actor_1  \\\n",
       "0                 Horror Mystery Thriller   Nicolas Pesce  Andrea Riseborough   \n",
       "1  Action Horror Science Fiction Thriller  William Eubank     Kristen Stewart   \n",
       "2                                  Comedy   Miguel Arteta     Tiffany Haddish   \n",
       "3                                   Drama       Jon Avnet        Richard Gere   \n",
       "4                    Crime Thriller Drama  Anthony Jerjen       Josh Hartnett   \n",
       "\n",
       "             actor_2          actor_3  \n",
       "0      Demián Bichir         John Cho  \n",
       "1     Vincent Cassel  Jessica Henwick  \n",
       "2         Rose Byrne      Salma Hayek  \n",
       "3     Peter Dinklage   Walton Goggins  \n",
       "4  Margarita Levieva   Chandler Riggs  "
      ]
     },
     "execution_count": 130,
     "metadata": {},
     "output_type": "execute_result"
    }
   ],
   "source": [
    "df_new.head()"
   ]
  },
  {
   "cell_type": "code",
   "execution_count": 131,
   "metadata": {},
   "outputs": [],
   "source": [
    "df_new.drop('Cast and crew',axis=1,inplace = True)"
   ]
  },
  {
   "cell_type": "code",
   "execution_count": 132,
   "metadata": {},
   "outputs": [],
   "source": [
    "df_new.drop('Unnamed: 0',axis=1,inplace=True)"
   ]
  },
  {
   "cell_type": "code",
   "execution_count": 133,
   "metadata": {},
   "outputs": [
    {
     "data": {
      "text/html": [
       "<div>\n",
       "<style scoped>\n",
       "    .dataframe tbody tr th:only-of-type {\n",
       "        vertical-align: middle;\n",
       "    }\n",
       "\n",
       "    .dataframe tbody tr th {\n",
       "        vertical-align: top;\n",
       "    }\n",
       "\n",
       "    .dataframe thead th {\n",
       "        text-align: right;\n",
       "    }\n",
       "</style>\n",
       "<table border=\"1\" class=\"dataframe\">\n",
       "  <thead>\n",
       "    <tr style=\"text-align: right;\">\n",
       "      <th></th>\n",
       "      <th>Title</th>\n",
       "      <th>genres</th>\n",
       "      <th>director</th>\n",
       "      <th>actor_1</th>\n",
       "      <th>actor_2</th>\n",
       "      <th>actor_3</th>\n",
       "    </tr>\n",
       "  </thead>\n",
       "  <tbody>\n",
       "    <tr>\n",
       "      <th>0</th>\n",
       "      <td>The Grudge</td>\n",
       "      <td>Horror Mystery Thriller</td>\n",
       "      <td>Nicolas Pesce</td>\n",
       "      <td>Andrea Riseborough</td>\n",
       "      <td>Demián Bichir</td>\n",
       "      <td>John Cho</td>\n",
       "    </tr>\n",
       "    <tr>\n",
       "      <th>1</th>\n",
       "      <td>Underwater</td>\n",
       "      <td>Action Horror Science Fiction Thriller</td>\n",
       "      <td>William Eubank</td>\n",
       "      <td>Kristen Stewart</td>\n",
       "      <td>Vincent Cassel</td>\n",
       "      <td>Jessica Henwick</td>\n",
       "    </tr>\n",
       "    <tr>\n",
       "      <th>2</th>\n",
       "      <td>Like a Boss</td>\n",
       "      <td>Comedy</td>\n",
       "      <td>Miguel Arteta</td>\n",
       "      <td>Tiffany Haddish</td>\n",
       "      <td>Rose Byrne</td>\n",
       "      <td>Salma Hayek</td>\n",
       "    </tr>\n",
       "    <tr>\n",
       "      <th>3</th>\n",
       "      <td>Three Christs</td>\n",
       "      <td>Drama</td>\n",
       "      <td>Jon Avnet</td>\n",
       "      <td>Richard Gere</td>\n",
       "      <td>Peter Dinklage</td>\n",
       "      <td>Walton Goggins</td>\n",
       "    </tr>\n",
       "    <tr>\n",
       "      <th>4</th>\n",
       "      <td>Inherit the Viper</td>\n",
       "      <td>Crime Thriller Drama</td>\n",
       "      <td>Anthony Jerjen</td>\n",
       "      <td>Josh Hartnett</td>\n",
       "      <td>Margarita Levieva</td>\n",
       "      <td>Chandler Riggs</td>\n",
       "    </tr>\n",
       "  </tbody>\n",
       "</table>\n",
       "</div>"
      ],
      "text/plain": [
       "               Title                                  genres        director  \\\n",
       "0         The Grudge                 Horror Mystery Thriller   Nicolas Pesce   \n",
       "1         Underwater  Action Horror Science Fiction Thriller  William Eubank   \n",
       "2        Like a Boss                                  Comedy   Miguel Arteta   \n",
       "3      Three Christs                                   Drama       Jon Avnet   \n",
       "4  Inherit the Viper                    Crime Thriller Drama  Anthony Jerjen   \n",
       "\n",
       "              actor_1            actor_2          actor_3  \n",
       "0  Andrea Riseborough      Demián Bichir         John Cho  \n",
       "1     Kristen Stewart     Vincent Cassel  Jessica Henwick  \n",
       "2     Tiffany Haddish         Rose Byrne      Salma Hayek  \n",
       "3        Richard Gere     Peter Dinklage   Walton Goggins  \n",
       "4       Josh Hartnett  Margarita Levieva   Chandler Riggs  "
      ]
     },
     "execution_count": 133,
     "metadata": {},
     "output_type": "execute_result"
    }
   ],
   "source": [
    "df_new.head()"
   ]
  },
  {
   "cell_type": "code",
   "execution_count": 134,
   "metadata": {},
   "outputs": [
    {
     "data": {
      "text/plain": [
       "Title        1\n",
       "genres       5\n",
       "director     1\n",
       "actor_1      1\n",
       "actor_2     25\n",
       "actor_3     95\n",
       "dtype: int64"
      ]
     },
     "execution_count": 134,
     "metadata": {},
     "output_type": "execute_result"
    }
   ],
   "source": [
    "df_new.isnull().sum()"
   ]
  },
  {
   "cell_type": "code",
   "execution_count": 135,
   "metadata": {},
   "outputs": [
    {
     "data": {
      "text/plain": [
       "(1147, 6)"
      ]
     },
     "execution_count": 135,
     "metadata": {},
     "output_type": "execute_result"
    }
   ],
   "source": [
    "df_new.shape"
   ]
  },
  {
   "cell_type": "code",
   "execution_count": 136,
   "metadata": {},
   "outputs": [
    {
     "data": {
      "text/html": [
       "<div>\n",
       "<style scoped>\n",
       "    .dataframe tbody tr th:only-of-type {\n",
       "        vertical-align: middle;\n",
       "    }\n",
       "\n",
       "    .dataframe tbody tr th {\n",
       "        vertical-align: top;\n",
       "    }\n",
       "\n",
       "    .dataframe thead th {\n",
       "        text-align: right;\n",
       "    }\n",
       "</style>\n",
       "<table border=\"1\" class=\"dataframe\">\n",
       "  <thead>\n",
       "    <tr style=\"text-align: right;\">\n",
       "      <th></th>\n",
       "      <th>Title</th>\n",
       "      <th>genres</th>\n",
       "      <th>director</th>\n",
       "      <th>actor_1</th>\n",
       "      <th>actor_2</th>\n",
       "      <th>actor_3</th>\n",
       "    </tr>\n",
       "  </thead>\n",
       "  <tbody>\n",
       "    <tr>\n",
       "      <th>16</th>\n",
       "      <td>The Assistant</td>\n",
       "      <td>Drama</td>\n",
       "      <td>Kitty Green</td>\n",
       "      <td>Julia Garner</td>\n",
       "      <td>Matthew Macfadyen</td>\n",
       "      <td>NaN</td>\n",
       "    </tr>\n",
       "    <tr>\n",
       "      <th>36</th>\n",
       "      <td>Wendy</td>\n",
       "      <td>Fantasy Adventure Drama</td>\n",
       "      <td>Benh Zeitlin</td>\n",
       "      <td>Tommie Lynn Milazzo</td>\n",
       "      <td>Shay Walker</td>\n",
       "      <td>NaN</td>\n",
       "    </tr>\n",
       "    <tr>\n",
       "      <th>54</th>\n",
       "      <td>No films had been released on this date as res...</td>\n",
       "      <td>NaN</td>\n",
       "      <td>No films had been released on this date as res...</td>\n",
       "      <td>No films had been released on this date as res...</td>\n",
       "      <td>NaN</td>\n",
       "      <td>NaN</td>\n",
       "    </tr>\n",
       "    <tr>\n",
       "      <th>57</th>\n",
       "      <td>Vivarium</td>\n",
       "      <td>Science Fiction Horror Mystery</td>\n",
       "      <td>Lorcan Finnegan</td>\n",
       "      <td>Imogen Poots</td>\n",
       "      <td>Jesse Eisenberg</td>\n",
       "      <td>NaN</td>\n",
       "    </tr>\n",
       "    <tr>\n",
       "      <th>83</th>\n",
       "      <td>Survive the Night</td>\n",
       "      <td>Action Thriller</td>\n",
       "      <td>Matt Eskandari</td>\n",
       "      <td>Bruce Willis</td>\n",
       "      <td>Chad Michael Murray</td>\n",
       "      <td>NaN</td>\n",
       "    </tr>\n",
       "    <tr>\n",
       "      <th>...</th>\n",
       "      <td>...</td>\n",
       "      <td>...</td>\n",
       "      <td>...</td>\n",
       "      <td>...</td>\n",
       "      <td>...</td>\n",
       "      <td>...</td>\n",
       "    </tr>\n",
       "    <tr>\n",
       "      <th>1073</th>\n",
       "      <td>The Velvet Underground</td>\n",
       "      <td>Documentary Music</td>\n",
       "      <td>Todd Haynes</td>\n",
       "      <td>The Velvet Underground</td>\n",
       "      <td>NaN</td>\n",
       "      <td>NaN</td>\n",
       "    </tr>\n",
       "    <tr>\n",
       "      <th>1093</th>\n",
       "      <td>Finch</td>\n",
       "      <td>Science Fiction Drama Adventure</td>\n",
       "      <td>Miguel Sapochnik</td>\n",
       "      <td>Tom Hanks</td>\n",
       "      <td>Caleb Landry Jones</td>\n",
       "      <td>NaN</td>\n",
       "    </tr>\n",
       "    <tr>\n",
       "      <th>1101</th>\n",
       "      <td>Apex</td>\n",
       "      <td>Action Thriller Science Fiction</td>\n",
       "      <td>Edward John Drake</td>\n",
       "      <td>Neal McDonough</td>\n",
       "      <td>Bruce Willis</td>\n",
       "      <td>NaN</td>\n",
       "    </tr>\n",
       "    <tr>\n",
       "      <th>1110</th>\n",
       "      <td>Zeros and Ones</td>\n",
       "      <td>War Thriller</td>\n",
       "      <td>Abel Ferrara</td>\n",
       "      <td>Ethan Hawke</td>\n",
       "      <td>Valerio Mastandrea</td>\n",
       "      <td>NaN</td>\n",
       "    </tr>\n",
       "    <tr>\n",
       "      <th>1146</th>\n",
       "      <td>NaN</td>\n",
       "      <td>Comedy</td>\n",
       "      <td>NaN</td>\n",
       "      <td>NaN</td>\n",
       "      <td>NaN</td>\n",
       "      <td>NaN</td>\n",
       "    </tr>\n",
       "  </tbody>\n",
       "</table>\n",
       "<p>95 rows × 6 columns</p>\n",
       "</div>"
      ],
      "text/plain": [
       "                                                  Title  \\\n",
       "16                                        The Assistant   \n",
       "36                                                Wendy   \n",
       "54    No films had been released on this date as res...   \n",
       "57                                             Vivarium   \n",
       "83                                    Survive the Night   \n",
       "...                                                 ...   \n",
       "1073                             The Velvet Underground   \n",
       "1093                                              Finch   \n",
       "1101                                               Apex   \n",
       "1110                                     Zeros and Ones   \n",
       "1146                                                NaN   \n",
       "\n",
       "                               genres  \\\n",
       "16                              Drama   \n",
       "36            Fantasy Adventure Drama   \n",
       "54                                NaN   \n",
       "57     Science Fiction Horror Mystery   \n",
       "83                    Action Thriller   \n",
       "...                               ...   \n",
       "1073                Documentary Music   \n",
       "1093  Science Fiction Drama Adventure   \n",
       "1101  Action Thriller Science Fiction   \n",
       "1110                     War Thriller   \n",
       "1146                           Comedy   \n",
       "\n",
       "                                               director  \\\n",
       "16                                          Kitty Green   \n",
       "36                                         Benh Zeitlin   \n",
       "54    No films had been released on this date as res...   \n",
       "57                                      Lorcan Finnegan   \n",
       "83                                       Matt Eskandari   \n",
       "...                                                 ...   \n",
       "1073                                        Todd Haynes   \n",
       "1093                                   Miguel Sapochnik   \n",
       "1101                                  Edward John Drake   \n",
       "1110                                       Abel Ferrara   \n",
       "1146                                                NaN   \n",
       "\n",
       "                                                actor_1              actor_2  \\\n",
       "16                                         Julia Garner    Matthew Macfadyen   \n",
       "36                                  Tommie Lynn Milazzo          Shay Walker   \n",
       "54    No films had been released on this date as res...                  NaN   \n",
       "57                                         Imogen Poots      Jesse Eisenberg   \n",
       "83                                         Bruce Willis  Chad Michael Murray   \n",
       "...                                                 ...                  ...   \n",
       "1073                             The Velvet Underground                  NaN   \n",
       "1093                                          Tom Hanks   Caleb Landry Jones   \n",
       "1101                                     Neal McDonough         Bruce Willis   \n",
       "1110                                        Ethan Hawke   Valerio Mastandrea   \n",
       "1146                                                NaN                  NaN   \n",
       "\n",
       "     actor_3  \n",
       "16       NaN  \n",
       "36       NaN  \n",
       "54       NaN  \n",
       "57       NaN  \n",
       "83       NaN  \n",
       "...      ...  \n",
       "1073     NaN  \n",
       "1093     NaN  \n",
       "1101     NaN  \n",
       "1110     NaN  \n",
       "1146     NaN  \n",
       "\n",
       "[95 rows x 6 columns]"
      ]
     },
     "execution_count": 136,
     "metadata": {},
     "output_type": "execute_result"
    }
   ],
   "source": [
    "df_new[df_new['actor_3'].isnull()]"
   ]
  },
  {
   "cell_type": "code",
   "execution_count": 137,
   "metadata": {},
   "outputs": [],
   "source": [
    "df_new.dropna(axis=0,inplace=True)"
   ]
  },
  {
   "cell_type": "code",
   "execution_count": 138,
   "metadata": {},
   "outputs": [
    {
     "data": {
      "text/plain": [
       "(1048, 6)"
      ]
     },
     "execution_count": 138,
     "metadata": {},
     "output_type": "execute_result"
    }
   ],
   "source": [
    "df_new.shape"
   ]
  },
  {
   "cell_type": "code",
   "execution_count": 139,
   "metadata": {},
   "outputs": [],
   "source": [
    "df_new.to_csv('api_data_final.csv')"
   ]
  },
  {
   "cell_type": "code",
   "execution_count": null,
   "metadata": {},
   "outputs": [],
   "source": []
  }
 ],
 "metadata": {
  "kernelspec": {
   "display_name": "Python 3",
   "language": "python",
   "name": "python3"
  },
  "language_info": {
   "codemirror_mode": {
    "name": "ipython",
    "version": 3
   },
   "file_extension": ".py",
   "mimetype": "text/x-python",
   "name": "python",
   "nbconvert_exporter": "python",
   "pygments_lexer": "ipython3",
   "version": "3.7.7"
  }
 },
 "nbformat": 4,
 "nbformat_minor": 4
}
