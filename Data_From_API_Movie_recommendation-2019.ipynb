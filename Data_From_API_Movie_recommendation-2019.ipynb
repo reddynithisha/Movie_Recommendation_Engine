{
 "cells": [
  {
   "cell_type": "code",
   "execution_count": 1,
   "metadata": {
    "scrolled": true
   },
   "outputs": [],
   "source": [
    "from tmdbv3api import TMDb"
   ]
  },
  {
   "cell_type": "code",
   "execution_count": 2,
   "metadata": {},
   "outputs": [],
   "source": [
    "import json\n",
    "import requests\n",
    "tmdb = TMDb()\n",
    "tmdb.api_key = 'Your API Key'"
   ]
  },
  {
   "cell_type": "code",
   "execution_count": 3,
   "metadata": {},
   "outputs": [],
   "source": [
    "from tmdbv3api import Movie\n",
    "tmdb_movie = Movie()\n",
    "result = tmdb_movie.search(\"The Grudge\")"
   ]
  },
  {
   "cell_type": "code",
   "execution_count": 4,
   "metadata": {},
   "outputs": [
    {
     "data": {
      "text/plain": [
       "{'adult': False,\n",
       " 'backdrop_path': '/e8nfiNRrcUfebNLPKtR6dzgV1M1.jpg',\n",
       " 'belongs_to_collection': {'id': 1974,\n",
       "  'name': 'The Grudge Collection',\n",
       "  'poster_path': '/dohOSIYDEK42stdfKo0pQfrve0h.jpg',\n",
       "  'backdrop_path': '/u0fckWIveOOUM9BX0I5puGSR2Wi.jpg'},\n",
       " 'budget': 10000000,\n",
       " 'genres': [{'id': 27, 'name': 'Horror'},\n",
       "  {'id': 9648, 'name': 'Mystery'},\n",
       "  {'id': 53, 'name': 'Thriller'}],\n",
       " 'homepage': '',\n",
       " 'id': 1970,\n",
       " 'imdb_id': 'tt0391198',\n",
       " 'original_language': 'en',\n",
       " 'original_title': 'The Grudge',\n",
       " 'overview': 'An American nurse living and working in Tokyo is exposed to a mysterious supernatural curse, one that locks a person in a powerful rage before claiming their life and spreading to another victim.',\n",
       " 'popularity': 58.527,\n",
       " 'poster_path': '/epllysIxLE4KRIXz49xHbwewvuE.jpg',\n",
       " 'production_companies': [{'id': 5,\n",
       "   'logo_path': '/71BqEFAF4V3qjjMPCpLuyJFB9A.png',\n",
       "   'name': 'Columbia Pictures',\n",
       "   'origin_country': 'US'},\n",
       "  {'id': 768,\n",
       "   'logo_path': None,\n",
       "   'name': 'Ghost House Pictures',\n",
       "   'origin_country': 'US'},\n",
       "  {'id': 829,\n",
       "   'logo_path': '/mzpAmEQ5P1gFvdRoNyCk9q8ngiv.png',\n",
       "   'name': 'Vertigo Entertainment',\n",
       "   'origin_country': 'US'},\n",
       "  {'id': 830,\n",
       "   'logo_path': None,\n",
       "   'name': 'Senator International',\n",
       "   'origin_country': ''},\n",
       "  {'id': 4710,\n",
       "   'logo_path': None,\n",
       "   'name': 'Fellah Pictures',\n",
       "   'origin_country': ''}],\n",
       " 'production_countries': [{'iso_3166_1': 'JP', 'name': 'Japan'},\n",
       "  {'iso_3166_1': 'US', 'name': 'United States of America'}],\n",
       " 'release_date': '2004-10-22',\n",
       " 'revenue': 183474602,\n",
       " 'runtime': 92,\n",
       " 'spoken_languages': [{'english_name': 'English',\n",
       "   'iso_639_1': 'en',\n",
       "   'name': 'English'},\n",
       "  {'english_name': 'Japanese', 'iso_639_1': 'ja', 'name': '日本語'}],\n",
       " 'status': 'Released',\n",
       " 'tagline': 'It never forgives. It never forgets.',\n",
       " 'title': 'The Grudge',\n",
       " 'video': False,\n",
       " 'vote_average': 5.9,\n",
       " 'vote_count': 2421}"
      ]
     },
     "execution_count": 4,
     "metadata": {},
     "output_type": "execute_result"
    }
   ],
   "source": [
    "movie_id = result[0].id\n",
    "response = requests.get('https://api.themoviedb.org/3/movie/{}?api_key={}'.format(movie_id,tmdb.api_key))\n",
    "data_json = response.json()\n",
    "data_json"
   ]
  },
  {
   "cell_type": "code",
   "execution_count": 5,
   "metadata": {},
   "outputs": [
    {
     "data": {
      "text/plain": [
       "{'id': 27, 'name': 'Horror'}"
      ]
     },
     "execution_count": 5,
     "metadata": {},
     "output_type": "execute_result"
    }
   ],
   "source": [
    "data_json['genres'][0]"
   ]
  },
  {
   "cell_type": "code",
   "execution_count": 6,
   "metadata": {},
   "outputs": [
    {
     "data": {
      "text/plain": [
       "'Horror'"
      ]
     },
     "execution_count": 6,
     "metadata": {},
     "output_type": "execute_result"
    }
   ],
   "source": [
    "data_json['genres'][0]['name']"
   ]
  },
  {
   "cell_type": "code",
   "execution_count": 7,
   "metadata": {},
   "outputs": [],
   "source": [
    "URL=\"https://en.wikipedia.org/wiki/List_of_American_films_of_2019\""
   ]
  },
  {
   "cell_type": "code",
   "execution_count": 8,
   "metadata": {},
   "outputs": [],
   "source": [
    "import bs4 as bs\n",
    "import requests\n"
   ]
  },
  {
   "cell_type": "code",
   "execution_count": 9,
   "metadata": {},
   "outputs": [],
   "source": [
    "url_link = requests.get(URL)"
   ]
  },
  {
   "cell_type": "code",
   "execution_count": 10,
   "metadata": {},
   "outputs": [],
   "source": [
    "import urllib.request"
   ]
  },
  {
   "cell_type": "code",
   "execution_count": 11,
   "metadata": {},
   "outputs": [],
   "source": [
    "import lxml"
   ]
  },
  {
   "cell_type": "code",
   "execution_count": 12,
   "metadata": {},
   "outputs": [],
   "source": [
    "source=urllib.request.urlopen(URL).read()"
   ]
  },
  {
   "cell_type": "code",
   "execution_count": 13,
   "metadata": {},
   "outputs": [],
   "source": [
    "file = bs.BeautifulSoup(url_link.text,'html.parser')\n"
   ]
  },
  {
   "cell_type": "code",
   "execution_count": 14,
   "metadata": {},
   "outputs": [
    {
     "name": "stdout",
     "output_type": "stream",
     "text": [
      "['sidebar', 'nomobile', 'nowraplinks', 'collapsible', 'collapsed']\n",
      "['wikitable']\n",
      "['wikitable', 'sortable']\n",
      "['wikitable', 'sortable']\n",
      "['wikitable', 'sortable']\n",
      "['wikitable', 'sortable']\n",
      "['nowraplinks', 'mw-collapsible', 'open', 'navbox-inner']\n",
      "['nowraplinks', 'mw-collapsible', 'autocollapse', 'navbox-inner']\n",
      "['nowraplinks', 'mw-collapsible', 'autocollapse', 'navbox-inner']\n",
      "['nowraplinks', 'navbox-subgroup']\n",
      "['nowraplinks', 'navbox-subgroup']\n",
      "['nowraplinks', 'navbox-subgroup']\n",
      "['nowraplinks', 'navbox-subgroup']\n"
     ]
    }
   ],
   "source": [
    "for table in file.find_all('table'):\n",
    "    print(table.get('class'))"
   ]
  },
  {
   "cell_type": "code",
   "execution_count": 15,
   "metadata": {},
   "outputs": [],
   "source": [
    "tables = file.find_all('table', class_='wikitable sortable')"
   ]
  },
  {
   "cell_type": "code",
   "execution_count": 16,
   "metadata": {},
   "outputs": [],
   "source": [
    "##import bs4.builder.htmlparser\n",
    "###import bs4.builder._lxml\n",
    "###import bs4.builder._html5lib"
   ]
  },
  {
   "cell_type": "code",
   "execution_count": 17,
   "metadata": {},
   "outputs": [
    {
     "data": {
      "text/plain": [
       "4"
      ]
     },
     "execution_count": 17,
     "metadata": {},
     "output_type": "execute_result"
    }
   ],
   "source": [
    "len(tables)"
   ]
  },
  {
   "cell_type": "code",
   "execution_count": 18,
   "metadata": {},
   "outputs": [],
   "source": [
    "import pandas as pd\n",
    "import numpy as np"
   ]
  },
  {
   "cell_type": "code",
   "execution_count": 19,
   "metadata": {},
   "outputs": [],
   "source": [
    "df1 = pd.read_html(str(tables[0]))[0]\n",
    "df2 = pd.read_html(str(tables[1]))[0]\n",
    "df3 = pd.read_html(str(tables[2]))[0]\n",
    "df4 = pd.read_html(str(tables[3]).replace(\"'1\\\"\\'\",'\"1\"'))[0] # avoided \"ValueError: invalid literal for int() with base 10: '1\"'"
   ]
  },
  {
   "cell_type": "code",
   "execution_count": 20,
   "metadata": {
    "scrolled": false
   },
   "outputs": [],
   "source": [
    "df = df1.append(df2.append(df3.append(df4,ignore_index=True),ignore_index=True),ignore_index=True)"
   ]
  },
  {
   "cell_type": "code",
   "execution_count": 23,
   "metadata": {},
   "outputs": [
    {
     "data": {
      "text/plain": [
       "(49, 6)"
      ]
     },
     "execution_count": 23,
     "metadata": {},
     "output_type": "execute_result"
    }
   ],
   "source": [
    "df1.shape"
   ]
  },
  {
   "cell_type": "code",
   "execution_count": 24,
   "metadata": {},
   "outputs": [],
   "source": [
    "df_2019 = df[['Title','Cast and crew']]"
   ]
  },
  {
   "cell_type": "code",
   "execution_count": 25,
   "metadata": {},
   "outputs": [
    {
     "data": {
      "text/html": [
       "<div>\n",
       "<style scoped>\n",
       "    .dataframe tbody tr th:only-of-type {\n",
       "        vertical-align: middle;\n",
       "    }\n",
       "\n",
       "    .dataframe tbody tr th {\n",
       "        vertical-align: top;\n",
       "    }\n",
       "\n",
       "    .dataframe thead th {\n",
       "        text-align: right;\n",
       "    }\n",
       "</style>\n",
       "<table border=\"1\" class=\"dataframe\">\n",
       "  <thead>\n",
       "    <tr style=\"text-align: right;\">\n",
       "      <th></th>\n",
       "      <th>Title</th>\n",
       "      <th>Cast and crew</th>\n",
       "    </tr>\n",
       "  </thead>\n",
       "  <tbody>\n",
       "    <tr>\n",
       "      <th>0</th>\n",
       "      <td>Escape Room</td>\n",
       "      <td>Adam Robitel (director); Bragi F. Schut, Maria...</td>\n",
       "    </tr>\n",
       "    <tr>\n",
       "      <th>1</th>\n",
       "      <td>Rust Creek</td>\n",
       "      <td>Jen McGowan (director); Julie Lipson (screenpl...</td>\n",
       "    </tr>\n",
       "    <tr>\n",
       "      <th>2</th>\n",
       "      <td>American Hangman</td>\n",
       "      <td>Wilson Coneybeare (director/screenplay); Donal...</td>\n",
       "    </tr>\n",
       "    <tr>\n",
       "      <th>3</th>\n",
       "      <td>A Dog's Way Home</td>\n",
       "      <td>Charles Martin Smith (director); W. Bruce Came...</td>\n",
       "    </tr>\n",
       "    <tr>\n",
       "      <th>4</th>\n",
       "      <td>The Upside</td>\n",
       "      <td>Neil Burger (director); Jon Hartmere (screenpl...</td>\n",
       "    </tr>\n",
       "  </tbody>\n",
       "</table>\n",
       "</div>"
      ],
      "text/plain": [
       "              Title                                      Cast and crew\n",
       "0       Escape Room  Adam Robitel (director); Bragi F. Schut, Maria...\n",
       "1        Rust Creek  Jen McGowan (director); Julie Lipson (screenpl...\n",
       "2  American Hangman  Wilson Coneybeare (director/screenplay); Donal...\n",
       "3  A Dog's Way Home  Charles Martin Smith (director); W. Bruce Came...\n",
       "4        The Upside  Neil Burger (director); Jon Hartmere (screenpl..."
      ]
     },
     "execution_count": 25,
     "metadata": {},
     "output_type": "execute_result"
    }
   ],
   "source": [
    "df_2019.head()"
   ]
  },
  {
   "cell_type": "code",
   "execution_count": 26,
   "metadata": {},
   "outputs": [],
   "source": [
    "def get_genre(x):\n",
    "    result = tmdb_movie.search(x)\n",
    "    if not result:\n",
    "        return np.NaN\n",
    "    else:\n",
    "        movie_id = result[0].id\n",
    "        response = requests.get('https://api.themoviedb.org/3/movie/{}?api_key={}'.format(movie_id,tmdb.api_key))\n",
    "        data_json = response.json()\n",
    "        genre = []\n",
    "        for i in range(len(data_json['genres'])):\n",
    "            genre.append(data_json['genres'][i]['name'])\n",
    "        gen = ' '.join(genre)\n",
    "        return gen\n",
    "    \n",
    "    "
   ]
  },
  {
   "cell_type": "code",
   "execution_count": 27,
   "metadata": {},
   "outputs": [
    {
     "name": "stderr",
     "output_type": "stream",
     "text": [
      "C:\\Users\\nitisha.reddy\\.conda\\envs\\py3-TF2.0\\lib\\site-packages\\ipykernel_launcher.py:1: SettingWithCopyWarning: \n",
      "A value is trying to be set on a copy of a slice from a DataFrame.\n",
      "Try using .loc[row_indexer,col_indexer] = value instead\n",
      "\n",
      "See the caveats in the documentation: https://pandas.pydata.org/pandas-docs/stable/user_guide/indexing.html#returning-a-view-versus-a-copy\n",
      "  \"\"\"Entry point for launching an IPython kernel.\n"
     ]
    }
   ],
   "source": [
    "df_2019['genres'] = df_2019['Title'].map(lambda x : get_genre(x))"
   ]
  },
  {
   "cell_type": "code",
   "execution_count": 28,
   "metadata": {},
   "outputs": [
    {
     "data": {
      "text/plain": [
       "(242,)"
      ]
     },
     "execution_count": 28,
     "metadata": {},
     "output_type": "execute_result"
    }
   ],
   "source": [
    "df_2019['genres'].shape"
   ]
  },
  {
   "cell_type": "code",
   "execution_count": 29,
   "metadata": {},
   "outputs": [
    {
     "data": {
      "text/plain": [
       "3"
      ]
     },
     "execution_count": 29,
     "metadata": {},
     "output_type": "execute_result"
    }
   ],
   "source": [
    "len(data_json['genres'])"
   ]
  },
  {
   "cell_type": "code",
   "execution_count": 30,
   "metadata": {},
   "outputs": [
    {
     "data": {
      "text/plain": [
       "0                       Horror Thriller Mystery\n",
       "1                                Thriller Drama\n",
       "2                                      Thriller\n",
       "3                        Drama Adventure Family\n",
       "4                                  Comedy Drama\n",
       "                         ...                   \n",
       "237    Animation Action Adventure Comedy Family\n",
       "238                               Drama Romance\n",
       "239           War Drama Action Thriller History\n",
       "240                         Drama Crime History\n",
       "241                                       Drama\n",
       "Name: genres, Length: 242, dtype: object"
      ]
     },
     "execution_count": 30,
     "metadata": {},
     "output_type": "execute_result"
    }
   ],
   "source": [
    "df_2019['genres']"
   ]
  },
  {
   "cell_type": "code",
   "execution_count": 31,
   "metadata": {},
   "outputs": [
    {
     "data": {
      "text/plain": [
       "str"
      ]
     },
     "execution_count": 31,
     "metadata": {},
     "output_type": "execute_result"
    }
   ],
   "source": [
    "type(df_2019.loc[0,'Cast and crew'])"
   ]
  },
  {
   "cell_type": "code",
   "execution_count": 32,
   "metadata": {},
   "outputs": [],
   "source": [
    "def get_director(x):\n",
    "    return x.split(' (')[0]"
   ]
  },
  {
   "cell_type": "code",
   "execution_count": 33,
   "metadata": {},
   "outputs": [
    {
     "name": "stderr",
     "output_type": "stream",
     "text": [
      "C:\\Users\\nitisha.reddy\\.conda\\envs\\py3-TF2.0\\lib\\site-packages\\ipykernel_launcher.py:1: SettingWithCopyWarning: \n",
      "A value is trying to be set on a copy of a slice from a DataFrame.\n",
      "Try using .loc[row_indexer,col_indexer] = value instead\n",
      "\n",
      "See the caveats in the documentation: https://pandas.pydata.org/pandas-docs/stable/user_guide/indexing.html#returning-a-view-versus-a-copy\n",
      "  \"\"\"Entry point for launching an IPython kernel.\n"
     ]
    }
   ],
   "source": [
    "df_2019['director'] = df_2019['Cast and crew'].map(lambda x: get_director(x))"
   ]
  },
  {
   "cell_type": "code",
   "execution_count": 34,
   "metadata": {},
   "outputs": [
    {
     "data": {
      "text/plain": [
       "0                Adam Robitel\n",
       "1                 Jen McGowan\n",
       "2           Wilson Coneybeare\n",
       "3        Charles Martin Smith\n",
       "4                 Neil Burger\n",
       "                ...          \n",
       "237    Nick Bruno, Troy Quane\n",
       "238              Greta Gerwig\n",
       "239                Sam Mendes\n",
       "240     Destin Daniel Cretton\n",
       "241           Chinonye Chukwu\n",
       "Name: director, Length: 242, dtype: object"
      ]
     },
     "execution_count": 34,
     "metadata": {},
     "output_type": "execute_result"
    }
   ],
   "source": [
    "df_2019['director']"
   ]
  },
  {
   "cell_type": "code",
   "execution_count": 35,
   "metadata": {},
   "outputs": [],
   "source": [
    "def get_actor1(x):\n",
    "    return (x.split(\"screenplay); \")[-1]).split(\", \")[0]\n",
    "        \n",
    "    "
   ]
  },
  {
   "cell_type": "code",
   "execution_count": 36,
   "metadata": {},
   "outputs": [
    {
     "name": "stderr",
     "output_type": "stream",
     "text": [
      "C:\\Users\\nitisha.reddy\\.conda\\envs\\py3-TF2.0\\lib\\site-packages\\ipykernel_launcher.py:1: SettingWithCopyWarning: \n",
      "A value is trying to be set on a copy of a slice from a DataFrame.\n",
      "Try using .loc[row_indexer,col_indexer] = value instead\n",
      "\n",
      "See the caveats in the documentation: https://pandas.pydata.org/pandas-docs/stable/user_guide/indexing.html#returning-a-view-versus-a-copy\n",
      "  \"\"\"Entry point for launching an IPython kernel.\n"
     ]
    }
   ],
   "source": [
    "df_2019['actor_1'] = df_2019['Cast and crew'].map(lambda x: get_actor1(x))"
   ]
  },
  {
   "cell_type": "code",
   "execution_count": 37,
   "metadata": {},
   "outputs": [
    {
     "data": {
      "text/plain": [
       "0           Taylor Russell\n",
       "1        Hermione Corfield\n",
       "2        Donald Sutherland\n",
       "3      Bryce Dallas Howard\n",
       "4           Bryan Cranston\n",
       "              ...         \n",
       "237             Will Smith\n",
       "238          Saoirse Ronan\n",
       "239          George MacKay\n",
       "240      Michael B. Jordan\n",
       "241          Alfre Woodard\n",
       "Name: actor_1, Length: 242, dtype: object"
      ]
     },
     "execution_count": 37,
     "metadata": {},
     "output_type": "execute_result"
    }
   ],
   "source": [
    "df_2019['actor_1']"
   ]
  },
  {
   "cell_type": "code",
   "execution_count": 38,
   "metadata": {},
   "outputs": [
    {
     "data": {
      "text/plain": [
       "'Taylor Russell'"
      ]
     },
     "execution_count": 38,
     "metadata": {},
     "output_type": "execute_result"
    }
   ],
   "source": [
    "df_2019.loc[0,'Cast and crew'].split(\"screenplay); \")[-1].split(\", \")[0]"
   ]
  },
  {
   "cell_type": "code",
   "execution_count": 39,
   "metadata": {},
   "outputs": [],
   "source": [
    "df_2019.to_csv('2019_movie.csv')"
   ]
  },
  {
   "cell_type": "code",
   "execution_count": 40,
   "metadata": {},
   "outputs": [],
   "source": [
    "def get_actor2(x):\n",
    "    if len(x.split(\"screenplay); \")[-1].split(\", \"))<2:\n",
    "        return np.nan\n",
    "    else:\n",
    "        return x.split(\"screenplay); \")[-1].split(\", \")[1]"
   ]
  },
  {
   "cell_type": "code",
   "execution_count": 41,
   "metadata": {},
   "outputs": [],
   "source": [
    "df_2019['actor_2'] = df_2019['Cast and crew'].map(lambda x: get_actor2(x))"
   ]
  },
  {
   "cell_type": "code",
   "execution_count": 42,
   "metadata": {},
   "outputs": [
    {
     "data": {
      "text/plain": [
       "0              Logan Miller\n",
       "1               Jay Paulson\n",
       "2        Vincent Kartheiser\n",
       "3        Edward James Olmos\n",
       "4                Kevin Hart\n",
       "               ...         \n",
       "237             Tom Holland\n",
       "238             Emma Watson\n",
       "239    Dean-Charles Chapman\n",
       "240              Jamie Foxx\n",
       "241          Wendell Pierce\n",
       "Name: actor_2, Length: 242, dtype: object"
      ]
     },
     "execution_count": 42,
     "metadata": {},
     "output_type": "execute_result"
    }
   ],
   "source": [
    "df_2019['actor_2']"
   ]
  },
  {
   "cell_type": "code",
   "execution_count": 43,
   "metadata": {},
   "outputs": [],
   "source": [
    "def get_actor3(x):\n",
    "    if len(x.split(\"screenplay); \")[-1].split(\", \"))<3:\n",
    "        return np.nan\n",
    "    else:\n",
    "        return x.split(\"screenplay); \")[-1].split(\", \")[2]"
   ]
  },
  {
   "cell_type": "code",
   "execution_count": 44,
   "metadata": {},
   "outputs": [],
   "source": [
    "df_2019['actor_3'] = df_2019['Cast and crew'].map(lambda x: get_actor3(x))"
   ]
  },
  {
   "cell_type": "code",
   "execution_count": 45,
   "metadata": {},
   "outputs": [
    {
     "data": {
      "text/plain": [
       "0      Deborah Ann Woll\n",
       "1          Sean O'Bryan\n",
       "2         Oliver Dennis\n",
       "3       Alexandra Shipp\n",
       "4         Nicole Kidman\n",
       "             ...       \n",
       "237       Rashida Jones\n",
       "238       Florence Pugh\n",
       "239         Mark Strong\n",
       "240         Brie Larson\n",
       "241         Aldis Hodge\n",
       "Name: actor_3, Length: 242, dtype: object"
      ]
     },
     "execution_count": 45,
     "metadata": {},
     "output_type": "execute_result"
    }
   ],
   "source": [
    "df_2019['actor_3']"
   ]
  },
  {
   "cell_type": "code",
   "execution_count": 46,
   "metadata": {},
   "outputs": [],
   "source": [
    "df_2019.to_csv('2019_final.csv')"
   ]
  },
  {
   "cell_type": "code",
   "execution_count": null,
   "metadata": {},
   "outputs": [],
   "source": []
  },
  {
   "cell_type": "code",
   "execution_count": null,
   "metadata": {},
   "outputs": [],
   "source": []
  },
  {
   "cell_type": "code",
   "execution_count": null,
   "metadata": {},
   "outputs": [],
   "source": []
  },
  {
   "cell_type": "code",
   "execution_count": null,
   "metadata": {},
   "outputs": [],
   "source": []
  }
 ],
 "metadata": {
  "kernelspec": {
   "display_name": "Python 3",
   "language": "python",
   "name": "python3"
  },
  "language_info": {
   "codemirror_mode": {
    "name": "ipython",
    "version": 3
   },
   "file_extension": ".py",
   "mimetype": "text/x-python",
   "name": "python",
   "nbconvert_exporter": "python",
   "pygments_lexer": "ipython3",
   "version": "3.7.7"
  }
 },
 "nbformat": 4,
 "nbformat_minor": 4
}
